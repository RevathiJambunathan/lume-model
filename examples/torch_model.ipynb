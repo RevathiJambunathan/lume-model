{
 "cells": [
  {
   "cell_type": "markdown",
   "id": "235c92cd-cc05-42b8-a516-1185eeac5f0c",
   "metadata": {},
   "source": [
    "# Creating a TorchModel\n",
    "Base models built in PyTorch are already supported by LUME-model. We demonstrate how to create and execute a `TorchModel` below."
   ]
  },
  {
   "cell_type": "code",
   "execution_count": 1,
   "id": "56725817-2b21-4bea-98b0-151dea959f77",
   "metadata": {},
   "outputs": [],
   "source": [
    "import torch\n",
    "\n",
    "from lume_model.models import TorchModel, TorchModule\n",
    "from lume_model.variables import ScalarVariable"
   ]
  },
  {
   "cell_type": "markdown",
   "id": "79c62b18-7dc1-44ca-b578-4dea5cc4a4b4",
   "metadata": {},
   "source": [
    "## Building a Model from Scratch\n",
    "Instantiation of a `TorchModel` requires specification of the base model (`torch.nn.Module`) and in-/output variables."
   ]
  },
  {
   "cell_type": "code",
   "execution_count": 2,
   "id": "f96d9863-269c-49d8-9671-cc73a783bcbc",
   "metadata": {},
   "outputs": [],
   "source": [
    "# exemplary model definition\n",
    "base_model = torch.nn.Sequential(\n",
    "    torch.nn.Linear(2, 1),\n",
    ")\n",
    "\n",
    "# variable specification\n",
    "input_variables = [\n",
    "    ScalarVariable(name=\"input1\", default_value=0.1, value_range=[0.0, 1.0]),\n",
    "    ScalarVariable(name=\"input2\", default_value=0.2, value_range=[0.0, 1.0]),\n",
    "]\n",
    "output_variables = [\n",
    "    ScalarVariable(name=\"output\"),\n",
    "]\n",
    "\n",
    "# creation of TorchModel\n",
    "example_model = TorchModel(\n",
    "    model=base_model,\n",
    "    input_variables=input_variables,\n",
    "    output_variables=output_variables,\n",
    ")"
   ]
  },
  {
   "cell_type": "code",
   "execution_count": 7,
   "id": "e6a82177-fa15-4bc0-9ffd-4e9181e91a75",
   "metadata": {},
   "outputs": [
    {
     "data": {
      "text/plain": [
       "{'input1': tensor([0.0259]), 'input2': tensor([0.3387])}"
      ]
     },
     "execution_count": 7,
     "metadata": {},
     "output_type": "execute_result"
    }
   ],
   "source": [
    "random_input = example_model.random_input(n_samples=1)\n",
    "random_input"
   ]
  },
  {
   "cell_type": "code",
   "execution_count": 8,
   "id": "b2d344c5-06a7-4f32-8a60-47e8bb27a3b8",
   "metadata": {},
   "outputs": [
    {
     "data": {
      "text/plain": [
       "{'output': tensor(0.5152)}"
      ]
     },
     "execution_count": 8,
     "metadata": {},
     "output_type": "execute_result"
    }
   ],
   "source": [
    "example_model.evaluate(random_input)"
   ]
  },
  {
   "cell_type": "markdown",
   "id": "d22e1cdd-0ea7-4a75-a2ed-47e6a77dac85",
   "metadata": {},
   "source": [
    "## Loading a Model from File\n",
    "An already created model can be saved to a YAML file by calling the `dump` method. The model can then be loaded by simply passing the file to the constructor."
   ]
  },
  {
   "cell_type": "code",
   "execution_count": 9,
   "id": "b32234ad-adcb-4431-940b-e5377cfa4e4a",
   "metadata": {},
   "outputs": [
    {
     "name": "stdout",
     "output_type": "stream",
     "text": [
      "model_class: TorchModel\n",
      "input_variables:\n",
      "  MedInc:\n",
      "    variable_class: ScalarVariable\n",
      "    default_value: 3.7857346534729004\n",
      "    value_range: [0.4999000132083893, 15.000100135803223]\n",
      "    is_constant: false\n",
      "  HouseAge:\n",
      "    variable_class: ScalarVariable\n",
      "    default_value: 29.282135009765625\n",
      "    value_range: [1.0, 52.0]\n",
      "    is_constant: false\n",
      "  AveRooms:\n",
      "    variable_class: ScalarVariable\n",
      "    default_value: 5.4074907302856445\n",
      "    value_range: [0.8461538553237915, 141.90908813476562]\n",
      "    is_constant: false\n",
      "  AveBedrms:\n",
      "    variable_class: ScalarVariable\n",
      "    default_value: 1.1071722507476807\n",
      "    value_range: [0.375, 34.06666564941406]\n",
      "    is_constant: false\n",
      "  Population:\n",
      "    variable_class: ScalarVariable\n",
      "    default_value: 1437.0687255859375\n",
      "    value_range: [3.0, 28566.0]\n",
      "    is_constant: false\n",
      "  AveOccup:\n",
      "    variable_class: ScalarVariable\n",
      "    default_value: 3.035413980484009\n",
      "    value_range: [0.692307710647583, 599.7142944335938]\n",
      "    is_constant: false\n",
      "  Latitude:\n",
      "    variable_class: ScalarVariable\n",
      "    default_value: 35.28323745727539\n",
      "    value_range: [32.65999984741211, 41.95000076293945]\n",
      "    is_constant: false\n",
      "  Longitude:\n",
      "    variable_class: ScalarVariable\n",
      "    default_value: -119.11573028564453\n",
      "    value_range: [-124.3499984741211, -114.30999755859375]\n",
      "    is_constant: false\n",
      "output_variables:\n",
      "  MedHouseVal:\n",
      "    variable_class: ScalarVariable\n",
      "    value_range: [-.inf, .inf]\n",
      "    is_constant: false\n",
      "input_validation_config:\n",
      "  MedInc: {value_range: true, strict: true}\n",
      "output_validation_config: null\n",
      "model: model.pt\n",
      "input_transformers: [input_transformers_0.pt]\n",
      "output_transformers: [output_transformers_0.pt]\n",
      "output_format: tensor\n",
      "device: cpu\n",
      "fixed_model: true\n",
      "precision: double\n",
      "\n"
     ]
    }
   ],
   "source": [
    "torch_model = TorchModel(\"../tests/test_files/california_regression/torch_model.yml\")\n",
    "print(torch_model.yaml())"
   ]
  },
  {
   "cell_type": "markdown",
   "id": "868fff4d-1f46-48e2-8bd0-c9d831df79e6",
   "metadata": {},
   "source": [
    "## Model Execution and TorchModule\n",
    "Calling the `evaluate` method allows for model execution on dictionary input. Additionally, instances of `TorchModel` can also be wrapped in a `TorchModule` which is a subclass of `torch.nn.Module`. This allows for seamless integration with `PyTorch` based packages like [BoTorch](https://botorch.org/) and [Xopt](https://christophermayes.github.io/Xopt/)."
   ]
  },
  {
   "cell_type": "code",
   "execution_count": 14,
   "id": "97946e64-062d-47d4-8d0c-d7e02a335a56",
   "metadata": {},
   "outputs": [
    {
     "data": {
      "text/plain": [
       "{'MedInc': tensor([13.0526]),\n",
       " 'HouseAge': tensor([15.7800]),\n",
       " 'AveRooms': tensor([71.9685]),\n",
       " 'AveBedrms': tensor([23.3648]),\n",
       " 'Population': tensor([21484.6023]),\n",
       " 'AveOccup': tensor([328.9107]),\n",
       " 'Latitude': tensor([38.4857]),\n",
       " 'Longitude': tensor([-120.1250])}"
      ]
     },
     "execution_count": 14,
     "metadata": {},
     "output_type": "execute_result"
    }
   ],
   "source": [
    "# generate exemplary input\n",
    "input_dict = torch_model.random_input(n_samples=1)\n",
    "input_dict"
   ]
  },
  {
   "cell_type": "code",
   "execution_count": 15,
   "id": "50aae4be-0d6e-456f-83e8-3a84d6d78f84",
   "metadata": {},
   "outputs": [
    {
     "data": {
      "text/plain": [
       "{'MedHouseVal': tensor(-1.4919)}"
      ]
     },
     "execution_count": 15,
     "metadata": {},
     "output_type": "execute_result"
    }
   ],
   "source": [
    "# execute TorchModel\n",
    "torch_model.evaluate(input_dict)"
   ]
  },
  {
   "cell_type": "code",
   "execution_count": 16,
   "id": "59e132a2-6e6d-41a6-9912-c26d151d4821",
   "metadata": {},
   "outputs": [],
   "source": [
    "# wrap in TorchModule\n",
    "torch_module = TorchModule(model=torch_model)"
   ]
  },
  {
   "cell_type": "code",
   "execution_count": 17,
   "id": "eb18b86d-8371-441c-a4c2-8d6e124a57d5",
   "metadata": {},
   "outputs": [
    {
     "data": {
      "text/plain": [
       "tensor(-1.4919)"
      ]
     },
     "execution_count": 17,
     "metadata": {},
     "output_type": "execute_result"
    }
   ],
   "source": [
    "# execute TorchModule\n",
    "# no input validation added here\n",
    "input_tensor = torch.tensor([input_dict[k] for k in torch_module.input_order]).unsqueeze(0)\n",
    "torch_module(input_tensor)"
   ]
  },
  {
   "cell_type": "code",
   "execution_count": null,
   "id": "f65ef3ee-56fd-4ed1-815f-b06566678191",
   "metadata": {},
   "outputs": [],
   "source": []
  }
 ],
 "metadata": {
  "kernelspec": {
   "display_name": "Python 3 (ipykernel)",
   "language": "python",
   "name": "python3"
  },
  "language_info": {
   "codemirror_mode": {
    "name": "ipython",
    "version": 3
   },
   "file_extension": ".py",
   "mimetype": "text/x-python",
   "name": "python",
   "nbconvert_exporter": "python",
   "pygments_lexer": "ipython3",
   "version": "3.9.20"
  }
 },
 "nbformat": 4,
 "nbformat_minor": 5
}
